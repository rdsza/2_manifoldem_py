{
 "cells": [
  {
   "cell_type": "code",
   "execution_count": 10,
   "metadata": {},
   "outputs": [],
   "source": [
    "from mat2py import mat_to_npz"
   ]
  },
  {
   "cell_type": "code",
   "execution_count": 11,
   "metadata": {},
   "outputs": [
    {
     "ename": "NotImplementedError",
     "evalue": "Please use HDF reader for matlab v7.3 files",
     "output_type": "error",
     "traceback": [
      "\u001b[0;31m---------------------------------------------------------------------------\u001b[0m",
      "\u001b[0;31mNotImplementedError\u001b[0m                       Traceback (most recent call last)",
      "Cell \u001b[0;32mIn[11], line 4\u001b[0m\n\u001b[1;32m      1\u001b[0m mat_file\u001b[39m=\u001b[39m\u001b[39m'\u001b[39m\u001b[39m/Users/rdsouza/Github/Research/2_manifoldem_py/Data/energy2DLandscapePD_GreatCircle_180deg.mat\u001b[39m\u001b[39m'\u001b[39m\n\u001b[1;32m      2\u001b[0m npz_file\u001b[39m=\u001b[39m\u001b[39m'\u001b[39m\u001b[39m/Users/rdsouza/Github/Research/2_manifoldem_py/Data/energy2DLandscapePD_GreatCircle_180deg.npz\u001b[39m\u001b[39m'\u001b[39m\n\u001b[0;32m----> 4\u001b[0m mat_to_npz(mat_file,npz_file)\n",
      "File \u001b[0;32m~/Github/Research/2_manifoldem_py/mat2py.py:16\u001b[0m, in \u001b[0;36mmat_to_npz\u001b[0;34m(mat_file, npz_file)\u001b[0m\n\u001b[1;32m      5\u001b[0m \"\"\"\n\u001b[1;32m      6\u001b[0m Load a .mat file using the `scipy.io.loadmat` function, convert it\n\u001b[1;32m      7\u001b[0m to a dictionary, and then save the dictionary to a .npz file using\n\u001b[0;32m   (...)\u001b[0m\n\u001b[1;32m     12\u001b[0m \n\u001b[1;32m     13\u001b[0m \"\"\"\n\u001b[1;32m     14\u001b[0m mat = scipy.io.loadmat(mat_file)\n\u001b[0;32m---> 16\u001b[0m # Convert the loaded .mat file to a dictionary\n\u001b[1;32m     17\u001b[0m data = {k:v for k, v in mat.items() if k[0] != '_'}\n\u001b[1;32m     19\u001b[0m # Save the dictionary to a .npz file\n",
      "File \u001b[0;32m/opt/anaconda3/envs/diffem/lib/python3.11/site-packages/scipy/io/matlab/_mio.py:225\u001b[0m, in \u001b[0;36mloadmat\u001b[0;34m(file_name, mdict, appendmat, **kwargs)\u001b[0m\n\u001b[1;32m     88\u001b[0m \u001b[39m\"\"\"\u001b[39;00m\n\u001b[1;32m     89\u001b[0m \u001b[39mLoad MATLAB file.\u001b[39;00m\n\u001b[1;32m     90\u001b[0m \n\u001b[0;32m   (...)\u001b[0m\n\u001b[1;32m    222\u001b[0m \u001b[39m    3.14159265+3.14159265j])\u001b[39;00m\n\u001b[1;32m    223\u001b[0m \u001b[39m\"\"\"\u001b[39;00m\n\u001b[1;32m    224\u001b[0m variable_names \u001b[39m=\u001b[39m kwargs\u001b[39m.\u001b[39mpop(\u001b[39m'\u001b[39m\u001b[39mvariable_names\u001b[39m\u001b[39m'\u001b[39m, \u001b[39mNone\u001b[39;00m)\n\u001b[0;32m--> 225\u001b[0m \u001b[39mwith\u001b[39;00m _open_file_context(file_name, appendmat) \u001b[39mas\u001b[39;00m f:\n\u001b[1;32m    226\u001b[0m     MR, _ \u001b[39m=\u001b[39m mat_reader_factory(f, \u001b[39m*\u001b[39m\u001b[39m*\u001b[39mkwargs)\n\u001b[1;32m    227\u001b[0m     matfile_dict \u001b[39m=\u001b[39m MR\u001b[39m.\u001b[39mget_variables(variable_names)\n",
      "File \u001b[0;32m/opt/anaconda3/envs/diffem/lib/python3.11/site-packages/scipy/io/matlab/_mio.py:80\u001b[0m, in \u001b[0;36mmat_reader_factory\u001b[0;34m(file_name, appendmat, **kwargs)\u001b[0m\n\u001b[1;32m     78\u001b[0m     \u001b[39mreturn\u001b[39;00m MatFile5Reader(byte_stream, \u001b[39m*\u001b[39m\u001b[39m*\u001b[39mkwargs), file_opened\n\u001b[1;32m     79\u001b[0m \u001b[39melif\u001b[39;00m mjv \u001b[39m==\u001b[39m \u001b[39m2\u001b[39m:\n\u001b[0;32m---> 80\u001b[0m     \u001b[39mraise\u001b[39;00m \u001b[39mNotImplementedError\u001b[39;00m(\u001b[39m'\u001b[39m\u001b[39mPlease use HDF reader for matlab v7.3 \u001b[39m\u001b[39m'\u001b[39m\n\u001b[1;32m     81\u001b[0m                               \u001b[39m'\u001b[39m\u001b[39mfiles, e.g. h5py\u001b[39m\u001b[39m'\u001b[39m)\n\u001b[1;32m     82\u001b[0m \u001b[39melse\u001b[39;00m:\n\u001b[1;32m     83\u001b[0m     \u001b[39mraise\u001b[39;00m \u001b[39mTypeError\u001b[39;00m(\u001b[39m'\u001b[39m\u001b[39mDid not recognize version \u001b[39m\u001b[39m%s\u001b[39;00m\u001b[39m'\u001b[39m \u001b[39m%\u001b[39m mjv)\n",
      "\u001b[0;31mNotImplementedError\u001b[0m: Please use HDF reader for matlab v7.3 files"
     ]
    }
   ],
   "source": [
    "mat_file='/Users/rdsouza/Github/Research/2_manifoldem_py/Data/energy2DLandscapePD_GreatCircle_180deg.mat'\n",
    "npz_file='/Users/rdsouza/Github/Research/2_manifoldem_py/Data/energy2DLandscapePD_GreatCircle_180deg.npz'\n",
    "\n",
    "mat_to_npz(mat_file,npz_file)"
   ]
  },
  {
   "cell_type": "code",
   "execution_count": null,
   "metadata": {},
   "outputs": [],
   "source": []
  }
 ],
 "metadata": {
  "kernelspec": {
   "display_name": "diffem",
   "language": "python",
   "name": "python3"
  },
  "language_info": {
   "codemirror_mode": {
    "name": "ipython",
    "version": 3
   },
   "file_extension": ".py",
   "mimetype": "text/x-python",
   "name": "python",
   "nbconvert_exporter": "python",
   "pygments_lexer": "ipython3",
   "version": "3.11.0"
  },
  "orig_nbformat": 4,
  "vscode": {
   "interpreter": {
    "hash": "6d716a8ac823e9e05bef18012e2ee66f9eb90169cf54d86b4c4f1d91ccf44d11"
   }
  }
 },
 "nbformat": 4,
 "nbformat_minor": 2
}
