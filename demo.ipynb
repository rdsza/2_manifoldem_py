{
 "cells": [
  {
   "cell_type": "code",
   "execution_count": 5,
   "metadata": {},
   "outputs": [],
   "source": [
    "mat_file='/Users/rdsouza/Github/Research/2_manifoldem_py/Data/energy2DLandscapePD_GreatCircle_180deg.mat'\n",
    "#npz_file='/Users/rdsouza/Github/Research/2_manifoldem_py/Data/energy2DLandscapePD_GreatCircle_180deg_TX.npz'\n",
    "#pkl_file='/Users/rdsouza/Github/Research/2_manifoldem_py/Data/energy2DLandscapePD_GreatCircle_180deg.pkl'\n",
    "#mat_to_npz(mat_file,npz_file)"
   ]
  },
  {
   "attachments": {},
   "cell_type": "markdown",
   "metadata": {},
   "source": [
    "`from mat2py import mat_to_npz`"
   ]
  },
  {
   "cell_type": "code",
   "execution_count": 6,
   "metadata": {},
   "outputs": [],
   "source": [
    "from readmatH5 import read_mat"
   ]
  },
  {
   "cell_type": "code",
   "execution_count": 7,
   "metadata": {},
   "outputs": [],
   "source": [
    "#data = read_mat('file.mat')\n",
    "data = read_mat(mat_file)\n",
    "import numpy as np\n",
    "#np.savez(npz_file, data)"
   ]
  },
  {
   "cell_type": "code",
   "execution_count": 8,
   "metadata": {},
   "outputs": [],
   "source": [
    "B = np.asarray(data['T_X'])"
   ]
  },
  {
   "cell_type": "code",
   "execution_count": 9,
   "metadata": {},
   "outputs": [
    {
     "data": {
      "text/plain": [
       "(20000, 15625)"
      ]
     },
     "execution_count": 9,
     "metadata": {},
     "output_type": "execute_result"
    }
   ],
   "source": [
    "B.shape"
   ]
  },
  {
   "cell_type": "code",
   "execution_count": 10,
   "metadata": {},
   "outputs": [
    {
     "data": {
      "text/plain": [
       "(18000, 15625)"
      ]
     },
     "execution_count": 10,
     "metadata": {},
     "output_type": "execute_result"
    }
   ],
   "source": [
    "B = B[2000:,:]\n",
    "B.shape"
   ]
  },
  {
   "cell_type": "code",
   "execution_count": 11,
   "metadata": {},
   "outputs": [],
   "source": [
    "#import numpy as np\n",
    "#np.savez(npz_file, B)"
   ]
  },
  {
   "cell_type": "code",
   "execution_count": 12,
   "metadata": {},
   "outputs": [],
   "source": [
    "#X1= np.load(npz_file)\n",
    "#X1 = np.asarray(X1)\n",
    "#X1.shape"
   ]
  },
  {
   "cell_type": "code",
   "execution_count": null,
   "metadata": {},
   "outputs": [],
   "source": []
  },
  {
   "cell_type": "code",
   "execution_count": 13,
   "metadata": {},
   "outputs": [],
   "source": [
    "import numpy as np\n",
    "\n",
    "def pairwise_distances(X):\n",
    "  \"\"\"\n",
    "  Computes the pairwise distances between all samples in the given dataset.\n",
    "\n",
    "  Parameters\n",
    "  ----------\n",
    "  X : numpy array, shape (n_samples, n_features)\n",
    "      The dataset.\n",
    "\n",
    "  Returns\n",
    "  -------\n",
    "  distances : numpy array, shape (n_samples, n_samples)\n",
    "      The pairwise distances between all samples.\n",
    "  \"\"\"\n",
    "  # Compute the L2 norm of each sample\n",
    "  norms = np.linalg.norm(X, axis=1, keepdims=True)\n",
    "\n",
    "  # Compute the dot product of each sample with itself and with all other samples\n",
    "  dot_prods = X @ X.T\n",
    "\n",
    "  # Compute the pairwise distances\n",
    "  distances = np.sqrt(norms**2 + norms.T**2 - 2*dot_prods)\n",
    "\n",
    "  return distances\n",
    "\n",
    "\n",
    "def squareform(matrix):\n",
    "  \"\"\"\n",
    "  Converts a matrix to squareform.\n",
    "\n",
    "  Parameters\n",
    "  ----------\n",
    "  matrix : numpy array, shape (n_samples, n_samples)\n",
    "      The matrix to convert to squareform.\n",
    "\n",
    "  Returns\n",
    "  -------\n",
    "  squareform : numpy array, shape (n_samples * (n_samples - 1) / 2)\n",
    "      The matrix in squareform.\n",
    "  \"\"\"\n",
    "  # Get the number of samples\n",
    "  n_samples = matrix.shape[0]\n",
    "\n",
    "  # Flatten the matrix to a 1D array in row-major order\n",
    "  flat_matrix = matrix[np.triu_indices(n_samples, k=1)].flatten()\n",
    "\n",
    "  return flat_matrix\n"
   ]
  },
  {
   "cell_type": "code",
   "execution_count": 15,
   "metadata": {},
   "outputs": [
    {
     "name": "stderr",
     "output_type": "stream",
     "text": [
      "/opt/anaconda3/envs/manpy/lib/python3.7/site-packages/ipykernel_launcher.py:24: RuntimeWarning: invalid value encountered in sqrt\n"
     ]
    },
    {
     "ename": "AxisError",
     "evalue": "axis 1 is out of bounds for array of dimension 1",
     "output_type": "error",
     "traceback": [
      "\u001b[0;31m---------------------------------------------------------------------------\u001b[0m",
      "\u001b[0;31mAxisError\u001b[0m                                 Traceback (most recent call last)",
      "\u001b[0;32m<ipython-input-15-072e18752a15>\u001b[0m in \u001b[0;36m<module>\u001b[0;34m\u001b[0m\n\u001b[1;32m     13\u001b[0m \u001b[0;34m\u001b[0m\u001b[0m\n\u001b[1;32m     14\u001b[0m \u001b[0;31m# Normalize the affinity matrix\u001b[0m\u001b[0;34m\u001b[0m\u001b[0;34m\u001b[0m\u001b[0;34m\u001b[0m\u001b[0m\n\u001b[0;32m---> 15\u001b[0;31m \u001b[0mD\u001b[0m \u001b[0;34m=\u001b[0m \u001b[0mnp\u001b[0m\u001b[0;34m.\u001b[0m\u001b[0mdiag\u001b[0m\u001b[0;34m(\u001b[0m\u001b[0mA\u001b[0m\u001b[0;34m.\u001b[0m\u001b[0msum\u001b[0m\u001b[0;34m(\u001b[0m\u001b[0maxis\u001b[0m\u001b[0;34m=\u001b[0m\u001b[0;36m1\u001b[0m\u001b[0;34m)\u001b[0m\u001b[0;34m)\u001b[0m\u001b[0;34m\u001b[0m\u001b[0;34m\u001b[0m\u001b[0m\n\u001b[0m\u001b[1;32m     16\u001b[0m \u001b[0mL\u001b[0m \u001b[0;34m=\u001b[0m \u001b[0mD\u001b[0m \u001b[0;34m-\u001b[0m \u001b[0mA\u001b[0m\u001b[0;34m\u001b[0m\u001b[0;34m\u001b[0m\u001b[0m\n\u001b[1;32m     17\u001b[0m \u001b[0;34m\u001b[0m\u001b[0m\n",
      "\u001b[0;32m/opt/anaconda3/envs/manpy/lib/python3.7/site-packages/numpy/core/_methods.py\u001b[0m in \u001b[0;36m_sum\u001b[0;34m(a, axis, dtype, out, keepdims, initial)\u001b[0m\n\u001b[1;32m     34\u001b[0m def _sum(a, axis=None, dtype=None, out=None, keepdims=False,\n\u001b[1;32m     35\u001b[0m          initial=_NoValue):\n\u001b[0;32m---> 36\u001b[0;31m     \u001b[0;32mreturn\u001b[0m \u001b[0mumr_sum\u001b[0m\u001b[0;34m(\u001b[0m\u001b[0ma\u001b[0m\u001b[0;34m,\u001b[0m \u001b[0maxis\u001b[0m\u001b[0;34m,\u001b[0m \u001b[0mdtype\u001b[0m\u001b[0;34m,\u001b[0m \u001b[0mout\u001b[0m\u001b[0;34m,\u001b[0m \u001b[0mkeepdims\u001b[0m\u001b[0;34m,\u001b[0m \u001b[0minitial\u001b[0m\u001b[0;34m)\u001b[0m\u001b[0;34m\u001b[0m\u001b[0;34m\u001b[0m\u001b[0m\n\u001b[0m\u001b[1;32m     37\u001b[0m \u001b[0;34m\u001b[0m\u001b[0m\n\u001b[1;32m     38\u001b[0m def _prod(a, axis=None, dtype=None, out=None, keepdims=False,\n",
      "\u001b[0;31mAxisError\u001b[0m: axis 1 is out of bounds for array of dimension 1"
     ]
    }
   ],
   "source": [
    "import numpy as np\n",
    "from sklearn.manifold import SpectralEmbedding\n",
    "\n",
    "# Load the data\n",
    "X = B#np.load(npz_file)\n",
    "\n",
    "# Compute the pairwise distances between all samples\n",
    "D = squareform(pairwise_distances(X))\n",
    "\n",
    "# Construct the affinity matrix\n",
    "eps = 0.1 # specify the width of the Gaussian kernel\n",
    "A = np.exp(-D**2 / eps**2)\n",
    "\n",
    "# Normalize the affinity matrix\n",
    "D = np.diag(A.sum(axis=1))\n",
    "L = D - A\n",
    "\n",
    "# Compute the eigenvectors and eigenvalues of the Laplacian matrix\n",
    "eigenvals, eigenvecs = np.linalg.eigh(L)\n",
    "\n",
    "# Select the top k eigenvectors\n",
    "k = 2 # number of dimensions\n",
    "X_diffmap = eigenvecs[:,:k]"
   ]
  },
  {
   "cell_type": "code",
   "execution_count": null,
   "metadata": {},
   "outputs": [],
   "source": []
  },
  {
   "cell_type": "code",
   "execution_count": null,
   "metadata": {},
   "outputs": [],
   "source": []
  },
  {
   "cell_type": "code",
   "execution_count": null,
   "metadata": {},
   "outputs": [],
   "source": []
  },
  {
   "attachments": {},
   "cell_type": "markdown",
   "metadata": {},
   "source": [
    "`import numpy as np`\n",
    "\n",
    "`def load_npz(npz_file):`\\\n",
    "    `# Load the .npz file`\\\n",
    "    `data = np.load(npz_file)`\\\n",
    "    `# Convert the .npz file to a dictionary`\\\n",
    "    `data_dict = {k:v for k, v in data.items()}`\\\n",
    "    `return data_dict`\n"
   ]
  },
  {
   "cell_type": "code",
   "execution_count": null,
   "metadata": {},
   "outputs": [],
   "source": [
    "#load_npz(npz_fil)\n",
    "#d = dict(zip((\"data1A\",\"data1B\",\"data1C\"), (X1[k] for k in X1)))\n",
    "#d = dict(zip((\"data1{}\".format(k) for k in X1), (X1[k] for k in X1)))\n",
    "#print(d)\n",
    "#print(d)"
   ]
  },
  {
   "cell_type": "code",
   "execution_count": null,
   "metadata": {},
   "outputs": [],
   "source": [
    "import numpy as np\n",
    "\n",
    "def load_npz(filename):\n",
    "    \"\"\"\n",
    "    Loads a .npz file and returns a dictionary of the variables stored in the file.\n",
    "    \n",
    "    Parameters\n",
    "    ----------\n",
    "    filename : str\n",
    "        The name of the .npz file to be loaded.\n",
    "        \n",
    "    Returns\n",
    "    -------\n",
    "    variables : dict\n",
    "        A dictionary of the variables stored in the .npz file, where the keys are the variable names and the values are the\n",
    "        variables themselves.\n",
    "    \"\"\"\n",
    "    # Load the .npz file\n",
    "    data = np.load(filename)\n",
    "    \n",
    "    # Extract the variables from the file and store them in a dictionary\n",
    "    variables = {key: value for key, value in data.items()}\n",
    "    \n",
    "    return variables\n",
    "\n"
   ]
  },
  {
   "cell_type": "code",
   "execution_count": null,
   "metadata": {},
   "outputs": [],
   "source": [
    "variables = load_npz(npz_file)"
   ]
  },
  {
   "cell_type": "code",
   "execution_count": null,
   "metadata": {},
   "outputs": [],
   "source": [
    "variables.shape"
   ]
  },
  {
   "cell_type": "markdown",
   "metadata": {},
   "source": [
    "def mat_to_pkl(mat_file, pkl_file, *variables):\n",
    "    # Load the .mat file\n",
    "    mat = scipy.io.loadmat(mat_file)\n",
    "\n",
    "    # Convert the loaded .mat file to a dictionary\n",
    "    data = {k:v for k, v in mat.items() if k[0] != '_'}\n",
    "\n",
    "    # Create a new dictionary with the specified variables\n",
    "    data_subset = {var: data[var] for var in variables}\n",
    "\n",
    "    # Save the dictionary to a .pkl file\n",
    "    with open(pkl_file, 'wb') as f:\n",
    "        pickle.dump(data_subset, f)\n"
   ]
  },
  {
   "cell_type": "code",
   "execution_count": null,
   "metadata": {},
   "outputs": [],
   "source": [
    "\n"
   ]
  },
  {
   "cell_type": "code",
   "execution_count": null,
   "metadata": {},
   "outputs": [],
   "source": []
  }
 ],
 "metadata": {
  "kernelspec": {
   "display_name": "manpy",
   "language": "python",
   "name": "python3"
  },
  "language_info": {
   "codemirror_mode": {
    "name": "ipython",
    "version": 3
   },
   "file_extension": ".py",
   "mimetype": "text/x-python",
   "name": "python",
   "nbconvert_exporter": "python",
   "pygments_lexer": "ipython3",
   "version": "3.11.0"
  },
  "orig_nbformat": 4,
  "vscode": {
   "interpreter": {
    "hash": "6e38d03400eccfe806ed13cd1d0b1aece58b627efc489470006a77a4479e1709"
   }
  }
 },
 "nbformat": 4,
 "nbformat_minor": 2
}
